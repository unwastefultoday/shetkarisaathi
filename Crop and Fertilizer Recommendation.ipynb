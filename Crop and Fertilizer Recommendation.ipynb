{
 "cells": [
  {
   "cell_type": "code",
   "execution_count": 1,
   "id": "f37b8b85-f744-44ef-916d-3f32ec585720",
   "metadata": {},
   "outputs": [],
   "source": [
    "import numpy as np\n",
    "import pandas as pd\n",
    "import os\n",
    "import time\n",
    "from sklearn.model_selection import train_test_split\n",
    "from sklearn.linear_model import LogisticRegression\n",
    "from sklearn.tree import DecisionTreeClassifier\n",
    "from sklearn.ensemble import RandomForestClassifier\n",
    "from sklearn.experimental import enable_halving_search_cv\n",
    "from sklearn.model_selection import GridSearchCV, RandomizedSearchCV, HalvingGridSearchCV, HalvingRandomSearchCV\n",
    "from sklearn.metrics import accuracy_score, f1_score\n",
    "os.chdir(r\"C:\\Users\\HP\\Desktop\\shetkarisaathi\")"
   ]
  },
  {
   "cell_type": "markdown",
   "id": "81293cfc-c3e9-4574-9834-68376cc26564",
   "metadata": {},
   "source": [
    "## Western Maharashtra Crops"
   ]
  },
  {
   "cell_type": "code",
   "execution_count": 3,
   "id": "c1903298-c927-4028-966c-35f5e87f4799",
   "metadata": {},
   "outputs": [],
   "source": [
    "westmh = pd.read_csv(r\"datasets\\Western Maharashtra.csv\")\n",
    "del westmh['Link']"
   ]
  },
  {
   "cell_type": "code",
   "execution_count": 4,
   "id": "4f782b00-b043-49c8-befe-350c0723551d",
   "metadata": {},
   "outputs": [
    {
     "data": {
      "text/html": [
       "<div>\n",
       "<style scoped>\n",
       "    .dataframe tbody tr th:only-of-type {\n",
       "        vertical-align: middle;\n",
       "    }\n",
       "\n",
       "    .dataframe tbody tr th {\n",
       "        vertical-align: top;\n",
       "    }\n",
       "\n",
       "    .dataframe thead th {\n",
       "        text-align: right;\n",
       "    }\n",
       "</style>\n",
       "<table border=\"1\" class=\"dataframe\">\n",
       "  <thead>\n",
       "    <tr style=\"text-align: right;\">\n",
       "      <th></th>\n",
       "      <th>District_Name</th>\n",
       "      <th>Soil_color</th>\n",
       "      <th>Nitrogen</th>\n",
       "      <th>Phosphorus</th>\n",
       "      <th>Potassium</th>\n",
       "      <th>pH</th>\n",
       "      <th>Rainfall</th>\n",
       "      <th>Temperature</th>\n",
       "      <th>Crop</th>\n",
       "      <th>Fertilizer</th>\n",
       "    </tr>\n",
       "  </thead>\n",
       "  <tbody>\n",
       "    <tr>\n",
       "      <th>0</th>\n",
       "      <td>Kolhapur</td>\n",
       "      <td>Black</td>\n",
       "      <td>75</td>\n",
       "      <td>50</td>\n",
       "      <td>100</td>\n",
       "      <td>6.5</td>\n",
       "      <td>1000</td>\n",
       "      <td>20</td>\n",
       "      <td>Sugarcane</td>\n",
       "      <td>Urea</td>\n",
       "    </tr>\n",
       "    <tr>\n",
       "      <th>1</th>\n",
       "      <td>Kolhapur</td>\n",
       "      <td>Black</td>\n",
       "      <td>80</td>\n",
       "      <td>50</td>\n",
       "      <td>100</td>\n",
       "      <td>6.5</td>\n",
       "      <td>1000</td>\n",
       "      <td>20</td>\n",
       "      <td>Sugarcane</td>\n",
       "      <td>Urea</td>\n",
       "    </tr>\n",
       "    <tr>\n",
       "      <th>2</th>\n",
       "      <td>Kolhapur</td>\n",
       "      <td>Black</td>\n",
       "      <td>85</td>\n",
       "      <td>50</td>\n",
       "      <td>100</td>\n",
       "      <td>6.5</td>\n",
       "      <td>1000</td>\n",
       "      <td>20</td>\n",
       "      <td>Sugarcane</td>\n",
       "      <td>Urea</td>\n",
       "    </tr>\n",
       "    <tr>\n",
       "      <th>3</th>\n",
       "      <td>Kolhapur</td>\n",
       "      <td>Black</td>\n",
       "      <td>90</td>\n",
       "      <td>50</td>\n",
       "      <td>100</td>\n",
       "      <td>6.5</td>\n",
       "      <td>1000</td>\n",
       "      <td>20</td>\n",
       "      <td>Sugarcane</td>\n",
       "      <td>Urea</td>\n",
       "    </tr>\n",
       "    <tr>\n",
       "      <th>4</th>\n",
       "      <td>Kolhapur</td>\n",
       "      <td>Black</td>\n",
       "      <td>95</td>\n",
       "      <td>50</td>\n",
       "      <td>100</td>\n",
       "      <td>6.5</td>\n",
       "      <td>1000</td>\n",
       "      <td>20</td>\n",
       "      <td>Sugarcane</td>\n",
       "      <td>Urea</td>\n",
       "    </tr>\n",
       "    <tr>\n",
       "      <th>...</th>\n",
       "      <td>...</td>\n",
       "      <td>...</td>\n",
       "      <td>...</td>\n",
       "      <td>...</td>\n",
       "      <td>...</td>\n",
       "      <td>...</td>\n",
       "      <td>...</td>\n",
       "      <td>...</td>\n",
       "      <td>...</td>\n",
       "      <td>...</td>\n",
       "    </tr>\n",
       "    <tr>\n",
       "      <th>4508</th>\n",
       "      <td>Pune</td>\n",
       "      <td>Black</td>\n",
       "      <td>130</td>\n",
       "      <td>80</td>\n",
       "      <td>150</td>\n",
       "      <td>7.0</td>\n",
       "      <td>1400</td>\n",
       "      <td>30</td>\n",
       "      <td>Sugarcane</td>\n",
       "      <td>MOP</td>\n",
       "    </tr>\n",
       "    <tr>\n",
       "      <th>4509</th>\n",
       "      <td>Pune</td>\n",
       "      <td>Black</td>\n",
       "      <td>135</td>\n",
       "      <td>80</td>\n",
       "      <td>150</td>\n",
       "      <td>7.0</td>\n",
       "      <td>1400</td>\n",
       "      <td>30</td>\n",
       "      <td>Sugarcane</td>\n",
       "      <td>MOP</td>\n",
       "    </tr>\n",
       "    <tr>\n",
       "      <th>4510</th>\n",
       "      <td>Pune</td>\n",
       "      <td>Black</td>\n",
       "      <td>140</td>\n",
       "      <td>80</td>\n",
       "      <td>150</td>\n",
       "      <td>7.0</td>\n",
       "      <td>1400</td>\n",
       "      <td>30</td>\n",
       "      <td>Sugarcane</td>\n",
       "      <td>MOP</td>\n",
       "    </tr>\n",
       "    <tr>\n",
       "      <th>4511</th>\n",
       "      <td>Pune</td>\n",
       "      <td>Black</td>\n",
       "      <td>145</td>\n",
       "      <td>80</td>\n",
       "      <td>150</td>\n",
       "      <td>7.0</td>\n",
       "      <td>1400</td>\n",
       "      <td>30</td>\n",
       "      <td>Sugarcane</td>\n",
       "      <td>MOP</td>\n",
       "    </tr>\n",
       "    <tr>\n",
       "      <th>4512</th>\n",
       "      <td>Pune</td>\n",
       "      <td>Black</td>\n",
       "      <td>150</td>\n",
       "      <td>80</td>\n",
       "      <td>150</td>\n",
       "      <td>7.0</td>\n",
       "      <td>1400</td>\n",
       "      <td>30</td>\n",
       "      <td>Sugarcane</td>\n",
       "      <td>MOP</td>\n",
       "    </tr>\n",
       "  </tbody>\n",
       "</table>\n",
       "<p>4513 rows × 10 columns</p>\n",
       "</div>"
      ],
      "text/plain": [
       "     District_Name Soil_color  Nitrogen  Phosphorus  Potassium   pH  Rainfall  \\\n",
       "0         Kolhapur      Black        75          50        100  6.5      1000   \n",
       "1         Kolhapur      Black        80          50        100  6.5      1000   \n",
       "2         Kolhapur      Black        85          50        100  6.5      1000   \n",
       "3         Kolhapur      Black        90          50        100  6.5      1000   \n",
       "4         Kolhapur      Black        95          50        100  6.5      1000   \n",
       "...            ...        ...       ...         ...        ...  ...       ...   \n",
       "4508          Pune      Black       130          80        150  7.0      1400   \n",
       "4509          Pune      Black       135          80        150  7.0      1400   \n",
       "4510          Pune      Black       140          80        150  7.0      1400   \n",
       "4511          Pune      Black       145          80        150  7.0      1400   \n",
       "4512          Pune      Black       150          80        150  7.0      1400   \n",
       "\n",
       "      Temperature       Crop Fertilizer  \n",
       "0              20  Sugarcane       Urea  \n",
       "1              20  Sugarcane       Urea  \n",
       "2              20  Sugarcane       Urea  \n",
       "3              20  Sugarcane       Urea  \n",
       "4              20  Sugarcane       Urea  \n",
       "...           ...        ...        ...  \n",
       "4508           30  Sugarcane        MOP  \n",
       "4509           30  Sugarcane        MOP  \n",
       "4510           30  Sugarcane        MOP  \n",
       "4511           30  Sugarcane        MOP  \n",
       "4512           30  Sugarcane        MOP  \n",
       "\n",
       "[4513 rows x 10 columns]"
      ]
     },
     "execution_count": 4,
     "metadata": {},
     "output_type": "execute_result"
    }
   ],
   "source": [
    "westmh"
   ]
  },
  {
   "cell_type": "code",
   "execution_count": 5,
   "id": "d94cc61e-e505-4ce9-887a-6baa9ab89682",
   "metadata": {},
   "outputs": [],
   "source": [
    "westmh['Soil_color'] = westmh['Soil_color'].apply(lambda x: x.strip())"
   ]
  },
  {
   "cell_type": "code",
   "execution_count": 6,
   "id": "86b732f3-c95f-4c3f-b1a5-3791a328c579",
   "metadata": {},
   "outputs": [
    {
     "data": {
      "text/plain": [
       "Index(['Nitrogen', 'Phosphorus', 'Potassium', 'pH', 'Rainfall', 'Temperature',\n",
       "       'District_Name_Kolhapur', 'District_Name_Pune', 'District_Name_Sangli',\n",
       "       'District_Name_Satara', 'District_Name_Solapur', 'Soil_color_Black',\n",
       "       'Soil_color_Dark Brown', 'Soil_color_Light Brown',\n",
       "       'Soil_color_Medium Brown', 'Soil_color_Red', 'Soil_color_Reddish Brown',\n",
       "       'Fertilizer_10:10:10 NPK', 'Fertilizer_10:26:26 NPK',\n",
       "       'Fertilizer_12:32:16 NPK', 'Fertilizer_13:32:26 NPK',\n",
       "       'Fertilizer_18:46:00 NPK', 'Fertilizer_19:19:19 NPK',\n",
       "       'Fertilizer_20:20:20 NPK', 'Fertilizer_50:26:26 NPK',\n",
       "       'Fertilizer_Ammonium Sulphate', 'Fertilizer_Chilated Micronutrient',\n",
       "       'Fertilizer_DAP', 'Fertilizer_Ferrous Sulphate',\n",
       "       'Fertilizer_Hydrated Lime', 'Fertilizer_MOP',\n",
       "       'Fertilizer_Magnesium Sulphate', 'Fertilizer_SSP', 'Fertilizer_Sulphur',\n",
       "       'Fertilizer_Urea', 'Fertilizer_White Potash'],\n",
       "      dtype='object')"
      ]
     },
     "execution_count": 6,
     "metadata": {},
     "output_type": "execute_result"
    }
   ],
   "source": [
    "pd.get_dummies(westmh.drop('Crop', axis = 1)).columns"
   ]
  },
  {
   "cell_type": "code",
   "execution_count": 7,
   "id": "bab4a769-6d9e-4fdf-90c2-4f2e8e55c8ce",
   "metadata": {},
   "outputs": [
    {
     "data": {
      "text/plain": [
       "{'Black', 'Dark Brown', 'Light Brown', 'Medium Brown', 'Red', 'Reddish Brown'}"
      ]
     },
     "execution_count": 7,
     "metadata": {},
     "output_type": "execute_result"
    }
   ],
   "source": [
    "set(westmh['Soil_color'])"
   ]
  },
  {
   "cell_type": "code",
   "execution_count": 8,
   "id": "cf69fa69-99ea-479d-ad32-67b95e06a3e0",
   "metadata": {},
   "outputs": [
    {
     "data": {
      "text/html": [
       "<div>\n",
       "<style scoped>\n",
       "    .dataframe tbody tr th:only-of-type {\n",
       "        vertical-align: middle;\n",
       "    }\n",
       "\n",
       "    .dataframe tbody tr th {\n",
       "        vertical-align: top;\n",
       "    }\n",
       "\n",
       "    .dataframe thead th {\n",
       "        text-align: right;\n",
       "    }\n",
       "</style>\n",
       "<table border=\"1\" class=\"dataframe\">\n",
       "  <thead>\n",
       "    <tr style=\"text-align: right;\">\n",
       "      <th></th>\n",
       "      <th>District_Name</th>\n",
       "      <th>Soil_color</th>\n",
       "      <th>Nitrogen</th>\n",
       "      <th>Phosphorus</th>\n",
       "      <th>Potassium</th>\n",
       "      <th>pH</th>\n",
       "      <th>Rainfall</th>\n",
       "      <th>Temperature</th>\n",
       "      <th>Crop</th>\n",
       "    </tr>\n",
       "  </thead>\n",
       "  <tbody>\n",
       "    <tr>\n",
       "      <th>0</th>\n",
       "      <td>Kolhapur</td>\n",
       "      <td>Black</td>\n",
       "      <td>75</td>\n",
       "      <td>50</td>\n",
       "      <td>100</td>\n",
       "      <td>6.5</td>\n",
       "      <td>1000</td>\n",
       "      <td>20</td>\n",
       "      <td>Sugarcane</td>\n",
       "    </tr>\n",
       "    <tr>\n",
       "      <th>1</th>\n",
       "      <td>Kolhapur</td>\n",
       "      <td>Black</td>\n",
       "      <td>80</td>\n",
       "      <td>50</td>\n",
       "      <td>100</td>\n",
       "      <td>6.5</td>\n",
       "      <td>1000</td>\n",
       "      <td>20</td>\n",
       "      <td>Sugarcane</td>\n",
       "    </tr>\n",
       "    <tr>\n",
       "      <th>2</th>\n",
       "      <td>Kolhapur</td>\n",
       "      <td>Black</td>\n",
       "      <td>85</td>\n",
       "      <td>50</td>\n",
       "      <td>100</td>\n",
       "      <td>6.5</td>\n",
       "      <td>1000</td>\n",
       "      <td>20</td>\n",
       "      <td>Sugarcane</td>\n",
       "    </tr>\n",
       "    <tr>\n",
       "      <th>3</th>\n",
       "      <td>Kolhapur</td>\n",
       "      <td>Black</td>\n",
       "      <td>90</td>\n",
       "      <td>50</td>\n",
       "      <td>100</td>\n",
       "      <td>6.5</td>\n",
       "      <td>1000</td>\n",
       "      <td>20</td>\n",
       "      <td>Sugarcane</td>\n",
       "    </tr>\n",
       "    <tr>\n",
       "      <th>4</th>\n",
       "      <td>Kolhapur</td>\n",
       "      <td>Black</td>\n",
       "      <td>95</td>\n",
       "      <td>50</td>\n",
       "      <td>100</td>\n",
       "      <td>6.5</td>\n",
       "      <td>1000</td>\n",
       "      <td>20</td>\n",
       "      <td>Sugarcane</td>\n",
       "    </tr>\n",
       "    <tr>\n",
       "      <th>...</th>\n",
       "      <td>...</td>\n",
       "      <td>...</td>\n",
       "      <td>...</td>\n",
       "      <td>...</td>\n",
       "      <td>...</td>\n",
       "      <td>...</td>\n",
       "      <td>...</td>\n",
       "      <td>...</td>\n",
       "      <td>...</td>\n",
       "    </tr>\n",
       "    <tr>\n",
       "      <th>4508</th>\n",
       "      <td>Pune</td>\n",
       "      <td>Black</td>\n",
       "      <td>130</td>\n",
       "      <td>80</td>\n",
       "      <td>150</td>\n",
       "      <td>7.0</td>\n",
       "      <td>1400</td>\n",
       "      <td>30</td>\n",
       "      <td>Sugarcane</td>\n",
       "    </tr>\n",
       "    <tr>\n",
       "      <th>4509</th>\n",
       "      <td>Pune</td>\n",
       "      <td>Black</td>\n",
       "      <td>135</td>\n",
       "      <td>80</td>\n",
       "      <td>150</td>\n",
       "      <td>7.0</td>\n",
       "      <td>1400</td>\n",
       "      <td>30</td>\n",
       "      <td>Sugarcane</td>\n",
       "    </tr>\n",
       "    <tr>\n",
       "      <th>4510</th>\n",
       "      <td>Pune</td>\n",
       "      <td>Black</td>\n",
       "      <td>140</td>\n",
       "      <td>80</td>\n",
       "      <td>150</td>\n",
       "      <td>7.0</td>\n",
       "      <td>1400</td>\n",
       "      <td>30</td>\n",
       "      <td>Sugarcane</td>\n",
       "    </tr>\n",
       "    <tr>\n",
       "      <th>4511</th>\n",
       "      <td>Pune</td>\n",
       "      <td>Black</td>\n",
       "      <td>145</td>\n",
       "      <td>80</td>\n",
       "      <td>150</td>\n",
       "      <td>7.0</td>\n",
       "      <td>1400</td>\n",
       "      <td>30</td>\n",
       "      <td>Sugarcane</td>\n",
       "    </tr>\n",
       "    <tr>\n",
       "      <th>4512</th>\n",
       "      <td>Pune</td>\n",
       "      <td>Black</td>\n",
       "      <td>150</td>\n",
       "      <td>80</td>\n",
       "      <td>150</td>\n",
       "      <td>7.0</td>\n",
       "      <td>1400</td>\n",
       "      <td>30</td>\n",
       "      <td>Sugarcane</td>\n",
       "    </tr>\n",
       "  </tbody>\n",
       "</table>\n",
       "<p>4513 rows × 9 columns</p>\n",
       "</div>"
      ],
      "text/plain": [
       "     District_Name Soil_color  Nitrogen  Phosphorus  Potassium   pH  Rainfall  \\\n",
       "0         Kolhapur      Black        75          50        100  6.5      1000   \n",
       "1         Kolhapur      Black        80          50        100  6.5      1000   \n",
       "2         Kolhapur      Black        85          50        100  6.5      1000   \n",
       "3         Kolhapur      Black        90          50        100  6.5      1000   \n",
       "4         Kolhapur      Black        95          50        100  6.5      1000   \n",
       "...            ...        ...       ...         ...        ...  ...       ...   \n",
       "4508          Pune      Black       130          80        150  7.0      1400   \n",
       "4509          Pune      Black       135          80        150  7.0      1400   \n",
       "4510          Pune      Black       140          80        150  7.0      1400   \n",
       "4511          Pune      Black       145          80        150  7.0      1400   \n",
       "4512          Pune      Black       150          80        150  7.0      1400   \n",
       "\n",
       "      Temperature       Crop  \n",
       "0              20  Sugarcane  \n",
       "1              20  Sugarcane  \n",
       "2              20  Sugarcane  \n",
       "3              20  Sugarcane  \n",
       "4              20  Sugarcane  \n",
       "...           ...        ...  \n",
       "4508           30  Sugarcane  \n",
       "4509           30  Sugarcane  \n",
       "4510           30  Sugarcane  \n",
       "4511           30  Sugarcane  \n",
       "4512           30  Sugarcane  \n",
       "\n",
       "[4513 rows x 9 columns]"
      ]
     },
     "execution_count": 8,
     "metadata": {},
     "output_type": "execute_result"
    }
   ],
   "source": [
    "westmh_crops = westmh.drop(\"Fertilizer\", axis = 1)\n",
    "westmh_crops"
   ]
  },
  {
   "cell_type": "code",
   "execution_count": 9,
   "id": "3dac554b-d812-407b-b569-c29657eb0cae",
   "metadata": {},
   "outputs": [
    {
     "data": {
      "text/plain": [
       "District_Name    0\n",
       "Soil_color       0\n",
       "Nitrogen         0\n",
       "Phosphorus       0\n",
       "Potassium        0\n",
       "pH               0\n",
       "Rainfall         0\n",
       "Temperature      0\n",
       "Crop             0\n",
       "dtype: int64"
      ]
     },
     "execution_count": 9,
     "metadata": {},
     "output_type": "execute_result"
    }
   ],
   "source": [
    "westmh_crops.isnull().sum()"
   ]
  },
  {
   "cell_type": "code",
   "execution_count": 10,
   "id": "9cf593a5-88c4-4de8-954e-8832345153c1",
   "metadata": {},
   "outputs": [],
   "source": [
    "X = pd.get_dummies(westmh_crops.drop('Crop', axis=1))\n",
    "y = westmh_crops['Crop']\n",
    "X_train, X_test, y_train, y_test = train_test_split(X, y, test_size=0.33, random_state=42)"
   ]
  },
  {
   "cell_type": "code",
   "execution_count": 11,
   "id": "cf3ebeb2-c411-419d-b062-19f6c8a58bce",
   "metadata": {},
   "outputs": [
    {
     "name": "stdout",
     "output_type": "stream",
     "text": [
      "0.6261744966442953\n",
      "0.5990046109042143\n"
     ]
    },
    {
     "name": "stderr",
     "output_type": "stream",
     "text": [
      "C:\\Users\\HP\\anaconda3\\Lib\\site-packages\\sklearn\\linear_model\\_logistic.py:469: ConvergenceWarning: lbfgs failed to converge (status=1):\n",
      "STOP: TOTAL NO. of ITERATIONS REACHED LIMIT.\n",
      "\n",
      "Increase the number of iterations (max_iter) or scale the data as shown in:\n",
      "    https://scikit-learn.org/stable/modules/preprocessing.html\n",
      "Please also refer to the documentation for alternative solver options:\n",
      "    https://scikit-learn.org/stable/modules/linear_model.html#logistic-regression\n",
      "  n_iter_i = _check_optimize_result(\n"
     ]
    }
   ],
   "source": [
    "westmh_crops_logreg = LogisticRegression()\n",
    "westmh_crops_logreg.fit(X_train, y_train)\n",
    "y_pred = westmh_crops_logreg.predict(X_test)\n",
    "print(accuracy_score(y_test, y_pred))\n",
    "print(f1_score(y_test, y_pred, average = 'weighted'))"
   ]
  },
  {
   "cell_type": "code",
   "execution_count": 12,
   "id": "06200310-ae7a-4678-9995-11689a61e46d",
   "metadata": {},
   "outputs": [
    {
     "name": "stdout",
     "output_type": "stream",
     "text": [
      "0.9979865771812081\n",
      "0.9979857205351024\n"
     ]
    }
   ],
   "source": [
    "westmh_crops_dt = DecisionTreeClassifier()\n",
    "westmh_crops_dt.fit(X_train, y_train)\n",
    "y_pred = westmh_crops_dt.predict(X_test)\n",
    "print(accuracy_score(y_test, y_pred))\n",
    "print(f1_score(y_test, y_pred, average = 'weighted'))"
   ]
  },
  {
   "cell_type": "code",
   "execution_count": 13,
   "id": "cc81449a-c8d2-40c6-b7b0-aefbf7373d7d",
   "metadata": {},
   "outputs": [
    {
     "name": "stdout",
     "output_type": "stream",
     "text": [
      "0.9979865771812081\n",
      "0.9962248375773501\n"
     ]
    }
   ],
   "source": [
    "westmh_crops_rf = RandomForestClassifier()\n",
    "westmh_crops_rf.fit(X_train, y_train)\n",
    "y_pred = westmh_crops_rf.predict(X_test)\n",
    "print(accuracy_score(y_test, y_pred))\n",
    "print(f1_score(y_test, y_pred, average = 'macro'))"
   ]
  },
  {
   "cell_type": "code",
   "execution_count": 14,
   "id": "7269e5a1-b760-4e5a-aa25-87d302db3daf",
   "metadata": {},
   "outputs": [],
   "source": [
    "import pickle\n",
    "with open(\"dumped models/westmh_crops.pkl\", \"wb\") as file: \n",
    "    pickle.dump(westmh_crops_rf, file)"
   ]
  },
  {
   "cell_type": "markdown",
   "id": "80cc87ee-d22c-4af4-919a-2936e0bfa784",
   "metadata": {},
   "source": [
    "## Other Regions Crops"
   ]
  },
  {
   "cell_type": "code",
   "execution_count": 16,
   "id": "a4d77224-ce50-405c-8a80-018cb5b47069",
   "metadata": {},
   "outputs": [
    {
     "data": {
      "text/html": [
       "<div>\n",
       "<style scoped>\n",
       "    .dataframe tbody tr th:only-of-type {\n",
       "        vertical-align: middle;\n",
       "    }\n",
       "\n",
       "    .dataframe tbody tr th {\n",
       "        vertical-align: top;\n",
       "    }\n",
       "\n",
       "    .dataframe thead th {\n",
       "        text-align: right;\n",
       "    }\n",
       "</style>\n",
       "<table border=\"1\" class=\"dataframe\">\n",
       "  <thead>\n",
       "    <tr style=\"text-align: right;\">\n",
       "      <th></th>\n",
       "      <th>N</th>\n",
       "      <th>P</th>\n",
       "      <th>K</th>\n",
       "      <th>temperature</th>\n",
       "      <th>humidity</th>\n",
       "      <th>ph</th>\n",
       "      <th>rainfall</th>\n",
       "      <th>label</th>\n",
       "    </tr>\n",
       "  </thead>\n",
       "  <tbody>\n",
       "    <tr>\n",
       "      <th>0</th>\n",
       "      <td>90</td>\n",
       "      <td>42</td>\n",
       "      <td>43</td>\n",
       "      <td>20.879744</td>\n",
       "      <td>82.002744</td>\n",
       "      <td>6.502985</td>\n",
       "      <td>202.935536</td>\n",
       "      <td>rice</td>\n",
       "    </tr>\n",
       "    <tr>\n",
       "      <th>1</th>\n",
       "      <td>85</td>\n",
       "      <td>58</td>\n",
       "      <td>41</td>\n",
       "      <td>21.770462</td>\n",
       "      <td>80.319644</td>\n",
       "      <td>7.038096</td>\n",
       "      <td>226.655537</td>\n",
       "      <td>rice</td>\n",
       "    </tr>\n",
       "    <tr>\n",
       "      <th>2</th>\n",
       "      <td>60</td>\n",
       "      <td>55</td>\n",
       "      <td>44</td>\n",
       "      <td>23.004459</td>\n",
       "      <td>82.320763</td>\n",
       "      <td>7.840207</td>\n",
       "      <td>263.964248</td>\n",
       "      <td>rice</td>\n",
       "    </tr>\n",
       "    <tr>\n",
       "      <th>3</th>\n",
       "      <td>74</td>\n",
       "      <td>35</td>\n",
       "      <td>40</td>\n",
       "      <td>26.491096</td>\n",
       "      <td>80.158363</td>\n",
       "      <td>6.980401</td>\n",
       "      <td>242.864034</td>\n",
       "      <td>rice</td>\n",
       "    </tr>\n",
       "    <tr>\n",
       "      <th>4</th>\n",
       "      <td>78</td>\n",
       "      <td>42</td>\n",
       "      <td>42</td>\n",
       "      <td>20.130175</td>\n",
       "      <td>81.604873</td>\n",
       "      <td>7.628473</td>\n",
       "      <td>262.717340</td>\n",
       "      <td>rice</td>\n",
       "    </tr>\n",
       "    <tr>\n",
       "      <th>...</th>\n",
       "      <td>...</td>\n",
       "      <td>...</td>\n",
       "      <td>...</td>\n",
       "      <td>...</td>\n",
       "      <td>...</td>\n",
       "      <td>...</td>\n",
       "      <td>...</td>\n",
       "      <td>...</td>\n",
       "    </tr>\n",
       "    <tr>\n",
       "      <th>2195</th>\n",
       "      <td>107</td>\n",
       "      <td>34</td>\n",
       "      <td>32</td>\n",
       "      <td>26.774637</td>\n",
       "      <td>66.413269</td>\n",
       "      <td>6.780064</td>\n",
       "      <td>177.774507</td>\n",
       "      <td>coffee</td>\n",
       "    </tr>\n",
       "    <tr>\n",
       "      <th>2196</th>\n",
       "      <td>99</td>\n",
       "      <td>15</td>\n",
       "      <td>27</td>\n",
       "      <td>27.417112</td>\n",
       "      <td>56.636362</td>\n",
       "      <td>6.086922</td>\n",
       "      <td>127.924610</td>\n",
       "      <td>coffee</td>\n",
       "    </tr>\n",
       "    <tr>\n",
       "      <th>2197</th>\n",
       "      <td>118</td>\n",
       "      <td>33</td>\n",
       "      <td>30</td>\n",
       "      <td>24.131797</td>\n",
       "      <td>67.225123</td>\n",
       "      <td>6.362608</td>\n",
       "      <td>173.322839</td>\n",
       "      <td>coffee</td>\n",
       "    </tr>\n",
       "    <tr>\n",
       "      <th>2198</th>\n",
       "      <td>117</td>\n",
       "      <td>32</td>\n",
       "      <td>34</td>\n",
       "      <td>26.272418</td>\n",
       "      <td>52.127394</td>\n",
       "      <td>6.758793</td>\n",
       "      <td>127.175293</td>\n",
       "      <td>coffee</td>\n",
       "    </tr>\n",
       "    <tr>\n",
       "      <th>2199</th>\n",
       "      <td>104</td>\n",
       "      <td>18</td>\n",
       "      <td>30</td>\n",
       "      <td>23.603016</td>\n",
       "      <td>60.396475</td>\n",
       "      <td>6.779833</td>\n",
       "      <td>140.937041</td>\n",
       "      <td>coffee</td>\n",
       "    </tr>\n",
       "  </tbody>\n",
       "</table>\n",
       "<p>2200 rows × 8 columns</p>\n",
       "</div>"
      ],
      "text/plain": [
       "        N   P   K  temperature   humidity        ph    rainfall   label\n",
       "0      90  42  43    20.879744  82.002744  6.502985  202.935536    rice\n",
       "1      85  58  41    21.770462  80.319644  7.038096  226.655537    rice\n",
       "2      60  55  44    23.004459  82.320763  7.840207  263.964248    rice\n",
       "3      74  35  40    26.491096  80.158363  6.980401  242.864034    rice\n",
       "4      78  42  42    20.130175  81.604873  7.628473  262.717340    rice\n",
       "...   ...  ..  ..          ...        ...       ...         ...     ...\n",
       "2195  107  34  32    26.774637  66.413269  6.780064  177.774507  coffee\n",
       "2196   99  15  27    27.417112  56.636362  6.086922  127.924610  coffee\n",
       "2197  118  33  30    24.131797  67.225123  6.362608  173.322839  coffee\n",
       "2198  117  32  34    26.272418  52.127394  6.758793  127.175293  coffee\n",
       "2199  104  18  30    23.603016  60.396475  6.779833  140.937041  coffee\n",
       "\n",
       "[2200 rows x 8 columns]"
      ]
     },
     "execution_count": 16,
     "metadata": {},
     "output_type": "execute_result"
    }
   ],
   "source": [
    "crops = pd.read_csv(\"datasets/Crop_recommendation.csv\")\n",
    "crops"
   ]
  },
  {
   "cell_type": "code",
   "execution_count": 17,
   "id": "5f718843-bc19-4680-a6b3-88b457e39b63",
   "metadata": {},
   "outputs": [],
   "source": [
    "X = pd.get_dummies(crops.drop('label', axis=1))\n",
    "y = crops['label']\n",
    "X_train, X_test, y_train, y_test = train_test_split(X, y, test_size=0.33, random_state=42)"
   ]
  },
  {
   "cell_type": "code",
   "execution_count": 18,
   "id": "eafdad96-9128-4b37-83b3-975fffe1ea95",
   "metadata": {},
   "outputs": [
    {
     "name": "stdout",
     "output_type": "stream",
     "text": [
      "0.9504132231404959\n",
      "0.9501439197510986\n"
     ]
    },
    {
     "name": "stderr",
     "output_type": "stream",
     "text": [
      "C:\\Users\\HP\\anaconda3\\Lib\\site-packages\\sklearn\\linear_model\\_logistic.py:469: ConvergenceWarning: lbfgs failed to converge (status=1):\n",
      "STOP: TOTAL NO. of ITERATIONS REACHED LIMIT.\n",
      "\n",
      "Increase the number of iterations (max_iter) or scale the data as shown in:\n",
      "    https://scikit-learn.org/stable/modules/preprocessing.html\n",
      "Please also refer to the documentation for alternative solver options:\n",
      "    https://scikit-learn.org/stable/modules/linear_model.html#logistic-regression\n",
      "  n_iter_i = _check_optimize_result(\n"
     ]
    }
   ],
   "source": [
    "crops_logreg = LogisticRegression()\n",
    "crops_logreg.fit(X_train, y_train)\n",
    "y_pred = crops_logreg.predict(X_test)\n",
    "print(accuracy_score(y_test, y_pred))\n",
    "print(f1_score(y_test, y_pred, average = 'weighted'))"
   ]
  },
  {
   "cell_type": "code",
   "execution_count": 19,
   "id": "94c5a1f3-c7f5-445b-a3fc-47b4256aab32",
   "metadata": {},
   "outputs": [
    {
     "name": "stdout",
     "output_type": "stream",
     "text": [
      "0.9724517906336089\n",
      "0.9725402131509303\n"
     ]
    }
   ],
   "source": [
    "crops_dt = DecisionTreeClassifier()\n",
    "crops_dt.fit(X_train, y_train)\n",
    "y_pred = crops_dt.predict(X_test)\n",
    "print(accuracy_score(y_test, y_pred))\n",
    "print(f1_score(y_test, y_pred, average = 'macro'))"
   ]
  },
  {
   "cell_type": "code",
   "execution_count": 20,
   "id": "4c95528d-85bf-47f1-a4b3-3a09b27527ee",
   "metadata": {},
   "outputs": [
    {
     "name": "stdout",
     "output_type": "stream",
     "text": [
      "0.9931129476584022\n",
      "0.9926815323041738\n"
     ]
    }
   ],
   "source": [
    "crops_rf = RandomForestClassifier()\n",
    "crops_rf.fit(X_train, y_train)\n",
    "y_pred = crops_rf.predict(X_test)\n",
    "print(accuracy_score(y_test, y_pred))\n",
    "print(f1_score(y_test, y_pred, average = 'macro'))"
   ]
  },
  {
   "cell_type": "code",
   "execution_count": 21,
   "id": "52b66988-e53c-47fc-affc-cd6abee88ae5",
   "metadata": {},
   "outputs": [],
   "source": [
    "import pickle\n",
    "with open(\"dumped models/crops.pkl\", \"wb\") as file: \n",
    "    pickle.dump(crops_rf, file)"
   ]
  },
  {
   "cell_type": "markdown",
   "id": "97b425e9-6334-4cc7-9eb0-87f61d739650",
   "metadata": {},
   "source": [
    "## Fertilizer"
   ]
  },
  {
   "cell_type": "code",
   "execution_count": 23,
   "id": "131d9d15-cc80-47ae-bc28-dea07541eb57",
   "metadata": {},
   "outputs": [
    {
     "data": {
      "text/html": [
       "<div>\n",
       "<style scoped>\n",
       "    .dataframe tbody tr th:only-of-type {\n",
       "        vertical-align: middle;\n",
       "    }\n",
       "\n",
       "    .dataframe tbody tr th {\n",
       "        vertical-align: top;\n",
       "    }\n",
       "\n",
       "    .dataframe thead th {\n",
       "        text-align: right;\n",
       "    }\n",
       "</style>\n",
       "<table border=\"1\" class=\"dataframe\">\n",
       "  <thead>\n",
       "    <tr style=\"text-align: right;\">\n",
       "      <th></th>\n",
       "      <th>Temparature</th>\n",
       "      <th>Humidity</th>\n",
       "      <th>Moisture</th>\n",
       "      <th>Soil_Type</th>\n",
       "      <th>Crop_Type</th>\n",
       "      <th>Nitrogen</th>\n",
       "      <th>Potassium</th>\n",
       "      <th>Phosphorous</th>\n",
       "      <th>Fertilizer</th>\n",
       "    </tr>\n",
       "  </thead>\n",
       "  <tbody>\n",
       "    <tr>\n",
       "      <th>0</th>\n",
       "      <td>20</td>\n",
       "      <td>83</td>\n",
       "      <td>26</td>\n",
       "      <td>Clayey</td>\n",
       "      <td>rice</td>\n",
       "      <td>90</td>\n",
       "      <td>49</td>\n",
       "      <td>36</td>\n",
       "      <td>Urea</td>\n",
       "    </tr>\n",
       "    <tr>\n",
       "      <th>1</th>\n",
       "      <td>25</td>\n",
       "      <td>84</td>\n",
       "      <td>32</td>\n",
       "      <td>Loamy</td>\n",
       "      <td>rice</td>\n",
       "      <td>66</td>\n",
       "      <td>59</td>\n",
       "      <td>36</td>\n",
       "      <td>Urea</td>\n",
       "    </tr>\n",
       "    <tr>\n",
       "      <th>2</th>\n",
       "      <td>33</td>\n",
       "      <td>64</td>\n",
       "      <td>50</td>\n",
       "      <td>Loamy</td>\n",
       "      <td>Wheat</td>\n",
       "      <td>41</td>\n",
       "      <td>0</td>\n",
       "      <td>0</td>\n",
       "      <td>Urea</td>\n",
       "    </tr>\n",
       "    <tr>\n",
       "      <th>3</th>\n",
       "      <td>34</td>\n",
       "      <td>65</td>\n",
       "      <td>54</td>\n",
       "      <td>Loamy</td>\n",
       "      <td>Wheat</td>\n",
       "      <td>38</td>\n",
       "      <td>0</td>\n",
       "      <td>0</td>\n",
       "      <td>Urea</td>\n",
       "    </tr>\n",
       "    <tr>\n",
       "      <th>4</th>\n",
       "      <td>38</td>\n",
       "      <td>72</td>\n",
       "      <td>51</td>\n",
       "      <td>Loamy</td>\n",
       "      <td>Wheat</td>\n",
       "      <td>39</td>\n",
       "      <td>0</td>\n",
       "      <td>0</td>\n",
       "      <td>Urea</td>\n",
       "    </tr>\n",
       "  </tbody>\n",
       "</table>\n",
       "</div>"
      ],
      "text/plain": [
       "   Temparature  Humidity  Moisture Soil_Type Crop_Type  Nitrogen  Potassium  \\\n",
       "0           20        83        26    Clayey      rice        90         49   \n",
       "1           25        84        32     Loamy      rice        66         59   \n",
       "2           33        64        50     Loamy     Wheat        41          0   \n",
       "3           34        65        54     Loamy     Wheat        38          0   \n",
       "4           38        72        51     Loamy     Wheat        39          0   \n",
       "\n",
       "   Phosphorous Fertilizer  \n",
       "0           36       Urea  \n",
       "1           36       Urea  \n",
       "2            0       Urea  \n",
       "3            0       Urea  \n",
       "4            0       Urea  "
      ]
     },
     "execution_count": 23,
     "metadata": {},
     "output_type": "execute_result"
    }
   ],
   "source": [
    "f2 = pd.read_csv(r\"datasets\\fertilizer.csv\")\n",
    "f2.head()"
   ]
  },
  {
   "cell_type": "code",
   "execution_count": 24,
   "id": "eb62ff3b-6ed1-4c8c-bbf7-546df032773f",
   "metadata": {},
   "outputs": [
    {
     "data": {
      "text/plain": [
       "{'Barley',\n",
       " 'Cotton',\n",
       " 'Ground Nuts',\n",
       " 'Maize',\n",
       " 'Millets',\n",
       " 'Oil seeds',\n",
       " 'Paddy',\n",
       " 'Pulses',\n",
       " 'Sugarcane',\n",
       " 'Tobacco',\n",
       " 'Wheat',\n",
       " 'coffee',\n",
       " 'kidneybeans',\n",
       " 'orange',\n",
       " 'pomegranate',\n",
       " 'rice',\n",
       " 'watermelon'}"
      ]
     },
     "execution_count": 24,
     "metadata": {},
     "output_type": "execute_result"
    }
   ],
   "source": [
    "set(f2['Crop_Type'])"
   ]
  },
  {
   "cell_type": "code",
   "execution_count": 25,
   "id": "29b7e2ef-4e5b-4aee-900c-11be0aca6748",
   "metadata": {},
   "outputs": [
    {
     "data": {
      "text/plain": [
       "Temparature    0\n",
       "Humidity       0\n",
       "Moisture       0\n",
       "Soil_Type      0\n",
       "Crop_Type      0\n",
       "Nitrogen       0\n",
       "Potassium      0\n",
       "Phosphorous    0\n",
       "Fertilizer     0\n",
       "dtype: int64"
      ]
     },
     "execution_count": 25,
     "metadata": {},
     "output_type": "execute_result"
    }
   ],
   "source": [
    "f2.isnull().sum()"
   ]
  },
  {
   "cell_type": "code",
   "execution_count": 48,
   "id": "2bfc196a-6274-4baf-9410-1538d2ca3572",
   "metadata": {},
   "outputs": [
    {
     "data": {
      "text/plain": [
       "Index(['Temparature', 'Humidity', 'Moisture', 'Nitrogen', 'Potassium',\n",
       "       'Phosphorous', 'Soil_Type_Black', 'Soil_Type_Clayey', 'Soil_Type_Loamy',\n",
       "       'Soil_Type_Red', 'Soil_Type_Sandy', 'Crop_Type_Barley',\n",
       "       'Crop_Type_Cotton', 'Crop_Type_Ground Nuts', 'Crop_Type_Maize',\n",
       "       'Crop_Type_Millets', 'Crop_Type_Oil seeds', 'Crop_Type_Paddy',\n",
       "       'Crop_Type_Pulses', 'Crop_Type_Sugarcane', 'Crop_Type_Tobacco',\n",
       "       'Crop_Type_Wheat', 'Crop_Type_coffee', 'Crop_Type_kidneybeans',\n",
       "       'Crop_Type_orange', 'Crop_Type_pomegranate', 'Crop_Type_rice',\n",
       "       'Crop_Type_watermelon'],\n",
       "      dtype='object')"
      ]
     },
     "execution_count": 48,
     "metadata": {},
     "output_type": "execute_result"
    }
   ],
   "source": [
    "pd.get_dummies(f2.drop('Fertilizer', axis=1)).columns"
   ]
  },
  {
   "cell_type": "code",
   "execution_count": 288,
   "id": "d65bd06d-500d-4db0-a91c-dbea85ee2d3b",
   "metadata": {},
   "outputs": [],
   "source": [
    "X = pd.get_dummies(f2.drop('Fertilizer', axis=1))\n",
    "y = f2['Fertilizer']\n",
    "X_train, X_test, y_train, y_test = train_test_split(X, y, test_size=0.33, random_state=42)"
   ]
  },
  {
   "cell_type": "code",
   "execution_count": 289,
   "id": "e1cafd02-7aed-4a4b-9a2e-cfcaf71689cb",
   "metadata": {},
   "outputs": [
    {
     "name": "stdout",
     "output_type": "stream",
     "text": [
      "0.8797814207650273\n",
      "0.8815281932944548\n"
     ]
    },
    {
     "name": "stderr",
     "output_type": "stream",
     "text": [
      "C:\\Users\\HP\\anaconda3\\Lib\\site-packages\\sklearn\\linear_model\\_logistic.py:469: ConvergenceWarning: lbfgs failed to converge (status=1):\n",
      "STOP: TOTAL NO. of ITERATIONS REACHED LIMIT.\n",
      "\n",
      "Increase the number of iterations (max_iter) or scale the data as shown in:\n",
      "    https://scikit-learn.org/stable/modules/preprocessing.html\n",
      "Please also refer to the documentation for alternative solver options:\n",
      "    https://scikit-learn.org/stable/modules/linear_model.html#logistic-regression\n",
      "  n_iter_i = _check_optimize_result(\n"
     ]
    }
   ],
   "source": [
    "fertilizer_logreg = LogisticRegression()\n",
    "fertilizer_logreg.fit(X_train, y_train)\n",
    "y_pred = fertilizer_logreg.predict(X_test)\n",
    "print(accuracy_score(y_test, y_pred))\n",
    "print(f1_score(y_test, y_pred, average = 'weighted'))"
   ]
  },
  {
   "cell_type": "code",
   "execution_count": 290,
   "id": "8b40dc45-3fb9-4005-8b68-86e899eb19e1",
   "metadata": {},
   "outputs": [
    {
     "name": "stdout",
     "output_type": "stream",
     "text": [
      "1.0\n",
      "1.0\n"
     ]
    }
   ],
   "source": [
    "fertilizer_dt = DecisionTreeClassifier()\n",
    "fertilizer_dt.fit(X_train, y_train)\n",
    "y_pred = fertilizer_dt.predict(X_test)\n",
    "print(accuracy_score(y_test, y_pred))\n",
    "print(f1_score(y_test, y_pred, average = 'weighted'))"
   ]
  },
  {
   "cell_type": "code",
   "execution_count": 291,
   "id": "58ab37fc-72c7-4889-ae40-04ff381c412a",
   "metadata": {},
   "outputs": [],
   "source": [
    "import pickle\n",
    "with open(\"dumped models/fertilizer_dt.pkl\", \"wb\") as file: \n",
    "    pickle.dump(fertilizer_dt, file)"
   ]
  },
  {
   "cell_type": "markdown",
   "id": "e8a9d16f-1229-4dc6-b945-8c19b7266b4e",
   "metadata": {},
   "source": [
    "## Western Maharashtra fertilizer"
   ]
  },
  {
   "cell_type": "code",
   "execution_count": 293,
   "id": "22df225e-21c2-44b0-899f-eeb8ad760164",
   "metadata": {},
   "outputs": [
    {
     "data": {
      "text/html": [
       "<div>\n",
       "<style scoped>\n",
       "    .dataframe tbody tr th:only-of-type {\n",
       "        vertical-align: middle;\n",
       "    }\n",
       "\n",
       "    .dataframe tbody tr th {\n",
       "        vertical-align: top;\n",
       "    }\n",
       "\n",
       "    .dataframe thead th {\n",
       "        text-align: right;\n",
       "    }\n",
       "</style>\n",
       "<table border=\"1\" class=\"dataframe\">\n",
       "  <thead>\n",
       "    <tr style=\"text-align: right;\">\n",
       "      <th></th>\n",
       "      <th>District_Name</th>\n",
       "      <th>Soil_color</th>\n",
       "      <th>Nitrogen</th>\n",
       "      <th>Phosphorus</th>\n",
       "      <th>Potassium</th>\n",
       "      <th>pH</th>\n",
       "      <th>Rainfall</th>\n",
       "      <th>Temperature</th>\n",
       "      <th>Crop</th>\n",
       "      <th>Fertilizer</th>\n",
       "    </tr>\n",
       "  </thead>\n",
       "  <tbody>\n",
       "    <tr>\n",
       "      <th>0</th>\n",
       "      <td>Kolhapur</td>\n",
       "      <td>Black</td>\n",
       "      <td>75</td>\n",
       "      <td>50</td>\n",
       "      <td>100</td>\n",
       "      <td>6.5</td>\n",
       "      <td>1000</td>\n",
       "      <td>20</td>\n",
       "      <td>Sugarcane</td>\n",
       "      <td>Urea</td>\n",
       "    </tr>\n",
       "    <tr>\n",
       "      <th>1</th>\n",
       "      <td>Kolhapur</td>\n",
       "      <td>Black</td>\n",
       "      <td>80</td>\n",
       "      <td>50</td>\n",
       "      <td>100</td>\n",
       "      <td>6.5</td>\n",
       "      <td>1000</td>\n",
       "      <td>20</td>\n",
       "      <td>Sugarcane</td>\n",
       "      <td>Urea</td>\n",
       "    </tr>\n",
       "    <tr>\n",
       "      <th>2</th>\n",
       "      <td>Kolhapur</td>\n",
       "      <td>Black</td>\n",
       "      <td>85</td>\n",
       "      <td>50</td>\n",
       "      <td>100</td>\n",
       "      <td>6.5</td>\n",
       "      <td>1000</td>\n",
       "      <td>20</td>\n",
       "      <td>Sugarcane</td>\n",
       "      <td>Urea</td>\n",
       "    </tr>\n",
       "    <tr>\n",
       "      <th>3</th>\n",
       "      <td>Kolhapur</td>\n",
       "      <td>Black</td>\n",
       "      <td>90</td>\n",
       "      <td>50</td>\n",
       "      <td>100</td>\n",
       "      <td>6.5</td>\n",
       "      <td>1000</td>\n",
       "      <td>20</td>\n",
       "      <td>Sugarcane</td>\n",
       "      <td>Urea</td>\n",
       "    </tr>\n",
       "    <tr>\n",
       "      <th>4</th>\n",
       "      <td>Kolhapur</td>\n",
       "      <td>Black</td>\n",
       "      <td>95</td>\n",
       "      <td>50</td>\n",
       "      <td>100</td>\n",
       "      <td>6.5</td>\n",
       "      <td>1000</td>\n",
       "      <td>20</td>\n",
       "      <td>Sugarcane</td>\n",
       "      <td>Urea</td>\n",
       "    </tr>\n",
       "    <tr>\n",
       "      <th>...</th>\n",
       "      <td>...</td>\n",
       "      <td>...</td>\n",
       "      <td>...</td>\n",
       "      <td>...</td>\n",
       "      <td>...</td>\n",
       "      <td>...</td>\n",
       "      <td>...</td>\n",
       "      <td>...</td>\n",
       "      <td>...</td>\n",
       "      <td>...</td>\n",
       "    </tr>\n",
       "    <tr>\n",
       "      <th>4508</th>\n",
       "      <td>Pune</td>\n",
       "      <td>Black</td>\n",
       "      <td>130</td>\n",
       "      <td>80</td>\n",
       "      <td>150</td>\n",
       "      <td>7.0</td>\n",
       "      <td>1400</td>\n",
       "      <td>30</td>\n",
       "      <td>Sugarcane</td>\n",
       "      <td>MOP</td>\n",
       "    </tr>\n",
       "    <tr>\n",
       "      <th>4509</th>\n",
       "      <td>Pune</td>\n",
       "      <td>Black</td>\n",
       "      <td>135</td>\n",
       "      <td>80</td>\n",
       "      <td>150</td>\n",
       "      <td>7.0</td>\n",
       "      <td>1400</td>\n",
       "      <td>30</td>\n",
       "      <td>Sugarcane</td>\n",
       "      <td>MOP</td>\n",
       "    </tr>\n",
       "    <tr>\n",
       "      <th>4510</th>\n",
       "      <td>Pune</td>\n",
       "      <td>Black</td>\n",
       "      <td>140</td>\n",
       "      <td>80</td>\n",
       "      <td>150</td>\n",
       "      <td>7.0</td>\n",
       "      <td>1400</td>\n",
       "      <td>30</td>\n",
       "      <td>Sugarcane</td>\n",
       "      <td>MOP</td>\n",
       "    </tr>\n",
       "    <tr>\n",
       "      <th>4511</th>\n",
       "      <td>Pune</td>\n",
       "      <td>Black</td>\n",
       "      <td>145</td>\n",
       "      <td>80</td>\n",
       "      <td>150</td>\n",
       "      <td>7.0</td>\n",
       "      <td>1400</td>\n",
       "      <td>30</td>\n",
       "      <td>Sugarcane</td>\n",
       "      <td>MOP</td>\n",
       "    </tr>\n",
       "    <tr>\n",
       "      <th>4512</th>\n",
       "      <td>Pune</td>\n",
       "      <td>Black</td>\n",
       "      <td>150</td>\n",
       "      <td>80</td>\n",
       "      <td>150</td>\n",
       "      <td>7.0</td>\n",
       "      <td>1400</td>\n",
       "      <td>30</td>\n",
       "      <td>Sugarcane</td>\n",
       "      <td>MOP</td>\n",
       "    </tr>\n",
       "  </tbody>\n",
       "</table>\n",
       "<p>4513 rows × 10 columns</p>\n",
       "</div>"
      ],
      "text/plain": [
       "     District_Name Soil_color  Nitrogen  Phosphorus  Potassium   pH  Rainfall  \\\n",
       "0         Kolhapur      Black        75          50        100  6.5      1000   \n",
       "1         Kolhapur      Black        80          50        100  6.5      1000   \n",
       "2         Kolhapur      Black        85          50        100  6.5      1000   \n",
       "3         Kolhapur      Black        90          50        100  6.5      1000   \n",
       "4         Kolhapur      Black        95          50        100  6.5      1000   \n",
       "...            ...        ...       ...         ...        ...  ...       ...   \n",
       "4508          Pune      Black       130          80        150  7.0      1400   \n",
       "4509          Pune      Black       135          80        150  7.0      1400   \n",
       "4510          Pune      Black       140          80        150  7.0      1400   \n",
       "4511          Pune      Black       145          80        150  7.0      1400   \n",
       "4512          Pune      Black       150          80        150  7.0      1400   \n",
       "\n",
       "      Temperature       Crop Fertilizer  \n",
       "0              20  Sugarcane       Urea  \n",
       "1              20  Sugarcane       Urea  \n",
       "2              20  Sugarcane       Urea  \n",
       "3              20  Sugarcane       Urea  \n",
       "4              20  Sugarcane       Urea  \n",
       "...           ...        ...        ...  \n",
       "4508           30  Sugarcane        MOP  \n",
       "4509           30  Sugarcane        MOP  \n",
       "4510           30  Sugarcane        MOP  \n",
       "4511           30  Sugarcane        MOP  \n",
       "4512           30  Sugarcane        MOP  \n",
       "\n",
       "[4513 rows x 10 columns]"
      ]
     },
     "execution_count": 293,
     "metadata": {},
     "output_type": "execute_result"
    }
   ],
   "source": [
    "westmh"
   ]
  },
  {
   "cell_type": "code",
   "execution_count": 50,
   "id": "216687b8-8198-4445-af9e-7033687b41f7",
   "metadata": {},
   "outputs": [
    {
     "data": {
      "text/plain": [
       "Index(['Nitrogen', 'Phosphorus', 'Potassium', 'pH', 'Rainfall', 'Temperature',\n",
       "       'District_Name_Kolhapur', 'District_Name_Pune', 'District_Name_Sangli',\n",
       "       'District_Name_Satara', 'District_Name_Solapur', 'Soil_color_Black',\n",
       "       'Soil_color_Dark Brown', 'Soil_color_Light Brown',\n",
       "       'Soil_color_Medium Brown', 'Soil_color_Red', 'Soil_color_Reddish Brown',\n",
       "       'Crop_Cotton', 'Crop_Ginger', 'Crop_Gram', 'Crop_Grapes',\n",
       "       'Crop_Groundnut', 'Crop_Jowar', 'Crop_Maize', 'Crop_Masoor',\n",
       "       'Crop_Moong', 'Crop_Rice', 'Crop_Soybean', 'Crop_Sugarcane', 'Crop_Tur',\n",
       "       'Crop_Turmeric', 'Crop_Urad', 'Crop_Wheat'],\n",
       "      dtype='object')"
      ]
     },
     "execution_count": 50,
     "metadata": {},
     "output_type": "execute_result"
    }
   ],
   "source": [
    "pd.get_dummies(westmh.drop('Fertilizer', axis=1)).columns"
   ]
  },
  {
   "cell_type": "code",
   "execution_count": 52,
   "id": "0c9777b9-672c-4640-8e3b-f4c95d2e977b",
   "metadata": {},
   "outputs": [
    {
     "data": {
      "text/plain": [
       "{'Cotton',\n",
       " 'Ginger',\n",
       " 'Gram',\n",
       " 'Grapes',\n",
       " 'Groundnut',\n",
       " 'Jowar',\n",
       " 'Maize',\n",
       " 'Masoor',\n",
       " 'Moong',\n",
       " 'Rice',\n",
       " 'Soybean',\n",
       " 'Sugarcane',\n",
       " 'Tur',\n",
       " 'Turmeric',\n",
       " 'Urad',\n",
       " 'Wheat'}"
      ]
     },
     "execution_count": 52,
     "metadata": {},
     "output_type": "execute_result"
    }
   ],
   "source": [
    "set(westmh['Crop'])"
   ]
  },
  {
   "cell_type": "code",
   "execution_count": 294,
   "id": "de85f606-a8c2-4714-ac2a-c97b81e69da2",
   "metadata": {},
   "outputs": [],
   "source": [
    "X = pd.get_dummies(westmh.drop('Fertilizer', axis=1))\n",
    "y = westmh['Fertilizer']\n",
    "X_train, X_test, y_train, y_test = train_test_split(X, y, test_size=0.33, random_state=42)"
   ]
  },
  {
   "cell_type": "code",
   "execution_count": 295,
   "id": "f463e132-a18e-412b-9f8f-65353b5e2aeb",
   "metadata": {},
   "outputs": [
    {
     "name": "stdout",
     "output_type": "stream",
     "text": [
      "0.30268456375838926\n",
      "0.23353620303422912\n"
     ]
    },
    {
     "name": "stderr",
     "output_type": "stream",
     "text": [
      "C:\\Users\\HP\\anaconda3\\Lib\\site-packages\\sklearn\\linear_model\\_logistic.py:469: ConvergenceWarning: lbfgs failed to converge (status=1):\n",
      "STOP: TOTAL NO. of ITERATIONS REACHED LIMIT.\n",
      "\n",
      "Increase the number of iterations (max_iter) or scale the data as shown in:\n",
      "    https://scikit-learn.org/stable/modules/preprocessing.html\n",
      "Please also refer to the documentation for alternative solver options:\n",
      "    https://scikit-learn.org/stable/modules/linear_model.html#logistic-regression\n",
      "  n_iter_i = _check_optimize_result(\n"
     ]
    }
   ],
   "source": [
    "westmh_fertilizer_logreg = LogisticRegression()\n",
    "westmh_fertilizer_logreg.fit(X_train, y_train)\n",
    "y_pred = westmh_fertilizer_logreg.predict(X_test)\n",
    "print(accuracy_score(y_test, y_pred))\n",
    "print(f1_score(y_test, y_pred, average = 'weighted'))"
   ]
  },
  {
   "cell_type": "code",
   "execution_count": 296,
   "id": "fe806ca2-d476-4125-b079-7cfed93cf0e2",
   "metadata": {},
   "outputs": [
    {
     "name": "stdout",
     "output_type": "stream",
     "text": [
      "0.9395973154362416\n",
      "0.9395213850897558\n"
     ]
    }
   ],
   "source": [
    "westmh_fertilizer_dt = DecisionTreeClassifier()\n",
    "westmh_fertilizer_dt.fit(X_train, y_train)\n",
    "y_pred = westmh_fertilizer_dt.predict(X_test)\n",
    "print(accuracy_score(y_test, y_pred))\n",
    "print(f1_score(y_test, y_pred, average = 'weighted'))"
   ]
  },
  {
   "cell_type": "code",
   "execution_count": 297,
   "id": "4d50d5c9-ad0e-433c-bd9e-7c7ac5d386a7",
   "metadata": {},
   "outputs": [
    {
     "name": "stdout",
     "output_type": "stream",
     "text": [
      "0.9\n",
      "0.8999681734559875\n"
     ]
    }
   ],
   "source": [
    "westmh_fertilizer_rf = RandomForestClassifier()\n",
    "westmh_fertilizer_rf.fit(X_train, y_train)\n",
    "y_pred = westmh_fertilizer_rf.predict(X_test)\n",
    "print(accuracy_score(y_test, y_pred))\n",
    "print(f1_score(y_test, y_pred, average = 'weighted'))"
   ]
  },
  {
   "cell_type": "code",
   "execution_count": 298,
   "id": "8c0489cf-ed8a-4cf0-99f3-a85e63a08f80",
   "metadata": {},
   "outputs": [],
   "source": [
    "import pickle\n",
    "with open(\"dumped models/westmh_fertilizer.pkl\", \"wb\") as file: \n",
    "    pickle.dump(westmh_fertilizer_dt, file)"
   ]
  }
 ],
 "metadata": {
  "kernelspec": {
   "display_name": "Python 3 (ipykernel)",
   "language": "python",
   "name": "python3"
  },
  "language_info": {
   "codemirror_mode": {
    "name": "ipython",
    "version": 3
   },
   "file_extension": ".py",
   "mimetype": "text/x-python",
   "name": "python",
   "nbconvert_exporter": "python",
   "pygments_lexer": "ipython3",
   "version": "3.12.7"
  }
 },
 "nbformat": 4,
 "nbformat_minor": 5
}
